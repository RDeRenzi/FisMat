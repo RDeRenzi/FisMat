{
 "cells": [
  {
   "cell_type": "markdown",
   "metadata": {},
   "source": [
    "# Analisi del diffrattogramma di Al"
   ]
  },
  {
   "cell_type": "code",
   "execution_count": null,
   "metadata": {},
   "outputs": [],
   "source": [
    "import matplotlib.pyplot as P\n",
    "import numpy as np"
   ]
  },
  {
   "cell_type": "markdown",
   "metadata": {},
   "source": [
    "![Diffrattogramma  Al](Al.png)"
   ]
  },
  {
   "cell_type": "markdown",
   "metadata": {},
   "source": [
    "### 1) Leggi i dati e  definisci la lunghezza d'onda $\\lambda=1.540562$ &#x212b; (K-$\\alpha_1$ Cu)"
   ]
  },
  {
   "cell_type": "code",
   "execution_count": null,
   "metadata": {},
   "outputs": [],
   "source": [
    "lam = 1.540562\n",
    "dute= np.array([38.43,44.67,65.01,78.13,82.33,98.93,111.83,116.36])"
   ]
  },
  {
   "cell_type": "markdown",
   "metadata": {},
   "source": [
    "### 2) Calcola le distanze tra piani che corrispondono a questi angoli\n",
    "$$ d = \\frac \\lambda {2\\sin\\theta}$$"
   ]
  },
  {
   "cell_type": "code",
   "execution_count": null,
   "metadata": {},
   "outputs": [],
   "source": [
    "d = lam/(2.*np.sin(np.deg2rad(dute/2.)))\n",
    "print('2 teta (gradi)   d [Ang]')\n",
    "for dt,dd in zip(dute,d):\n",
    "    print(' {:6.2f}          {:.4f}'.format(dt,dd))\n",
    "d0 = d[0]"
   ]
  },
  {
   "cell_type": "markdown",
   "metadata": {},
   "source": [
    "### 3a) Calcola il quadrato del rapporto tra la minima di queste distanze e le altre tra piani che corrispondono a questi angoli\n",
    "$$ R = \\left(\\frac{d0}d\\right)^2  $$"
   ]
  },
  {
   "cell_type": "code",
   "execution_count": null,
   "metadata": {},
   "outputs": [],
   "source": [
    "R = (d0/d)**2\n",
    "print('2 teta (gradi)   d [Ang]     R')\n",
    "for dt,dd,RR in zip(dute,d,R):\n",
    "    print(' {:6.2f}          {:.4f}      {:.4f}'.format(dt,dd,RR))"
   ]
  },
  {
   "cell_type": "markdown",
   "metadata": {},
   "source": [
    "### 3b) Trova multiplo m intero di R (è chiaro: 3). Così:\n",
    "$$ mR = N = \\left(\\frac a d\\right)^2 = h^2+k^2+l^2$$"
   ]
  },
  {
   "cell_type": "code",
   "execution_count": null,
   "metadata": {},
   "outputs": [],
   "source": [
    "N = np.rint(3.*R).astype(int)\n",
    "print(r\"2 teta (gradi)   d [Ang]     R      N=h^2 +k^2+l^2\")\n",
    "for dt,dd,RR,NN in zip(dute,d,R,N):\n",
    "    print(' {:6.2f}          {:.4f}      {:.4f}      {:2}'.format(dt,dd,RR,NN))"
   ]
  },
  {
   "cell_type": "markdown",
   "metadata": {},
   "source": [
    "### 4) Trova (hkl) per tentativi (completa il vettore hkl secondo l'esempio, NB codice rotto se non si completa!)"
   ]
  },
  {
   "cell_type": "code",
   "execution_count": null,
   "metadata": {},
   "outputs": [],
   "source": [
    "hkl=np.array([[1,1,1],[])                                             #[2,0,0],[2,2,0],[3,1,1],[2,2,2],[4,0,0],[3,3,1],[4,2,0]])\n",
    "print(r\"2 teta (gradi)   d [Ang]     R      N=h^2 +k^2+l^2   hkl\")\n",
    "for dt,dd,RR,NN,[h,k,l] in zip(dute,d,R,N,hkl):\n",
    "    print(' {:6.2f}          {:.4f}      {:.4f}      {:2}          {:1}{:1}{:1}'.format(dt,dd,RR,NN,h,k,l))"
   ]
  },
  {
   "cell_type": "markdown",
   "metadata": {},
   "source": [
    "### 5) Trova \n",
    "$$ a = d\\sqrt{h^2+k^2+l^2}$$"
   ]
  },
  {
   "cell_type": "code",
   "execution_count": null,
   "metadata": {},
   "outputs": [],
   "source": [
    "h,k,l = hkl[:,0],hkl[:,1],hkl[:,2]\n",
    "a = d*np.sqrt(h**2+k**2+l**2)\n",
    "print(r\"2 teta (gradi)   d [Ang]     R      N=h^2 +k^2+l^2   hkl    a[Ang]\")\n",
    "for dt,dd,RR,NN,[h,k,l],aa in zip(dute,d,R,N,hkl,a):\n",
    "    print(' {:6.2f}          {:.4f}      {:.4f}      {:2}          {:1}{:1}{:1}    {:.4f}'.format(dt,dd,RR,NN,h,k,l,aa))"
   ]
  },
  {
   "cell_type": "markdown",
   "metadata": {},
   "source": [
    "![Al hkl](Alhkl.png)"
   ]
  }
 ],
 "metadata": {
  "kernelspec": {
   "display_name": "Python 3",
   "language": "python",
   "name": "python3"
  },
  "language_info": {
   "codemirror_mode": {
    "name": "ipython",
    "version": 3
   },
   "file_extension": ".py",
   "mimetype": "text/x-python",
   "name": "python",
   "nbconvert_exporter": "python",
   "pygments_lexer": "ipython3",
   "version": "3.5.2"
  }
 },
 "nbformat": 4,
 "nbformat_minor": 2
}
